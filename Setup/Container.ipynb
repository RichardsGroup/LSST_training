{
 "cells": [
  {
   "cell_type": "markdown",
   "metadata": {},
   "source": [
    "### Create container on SciServer\n",
    "\n",
    "At this point, we assume you have already set up an account on SciServer, if not, please do that first. Next, we will use a set up screenshot to help you go through the process of creating a container and mounting the training data volume to the new container from the login portal. "
   ]
  },
  {
   "cell_type": "markdown",
   "metadata": {},
   "source": [
    "1. Login using you SciServer username and password\n",
    "\n",
    "<img src='figs/login.jpg' style='width:800px' img>"
   ]
  },
  {
   "cell_type": "markdown",
   "metadata": {},
   "source": [
    "2. Select compute component once you are logged in\n",
    "\n",
    "<img src='figs/select_compute.jpg' style='width:800px' img>"
   ]
  },
  {
   "cell_type": "markdown",
   "metadata": {},
   "source": [
    "3. Create a new container. Make sure you select the `SciServer Essentials` image under **Compute Image** and check the box next to `AGN_training, Storage Volume created by ywx649999311` under **User volumes** shown in the second screenshot.\n",
    "\n",
    "<img src='figs/compute.jpg' style='width:800px' img>\n",
    "<img src='figs/create_container.jpg' style='width:400px' img>"
   ]
  },
  {
   "cell_type": "markdown",
   "metadata": {},
   "source": [
    "4. Enter the newly created container and switch to the JupyterLab interface\n",
    "\n",
    "<img src='figs/enter_container.jpg' style='width:800px' img>\n",
    "\n",
    "<img src='figs/switch_2_lab.jpg' style='width:800px' img>"
   ]
  },
  {
   "cell_type": "markdown",
   "metadata": {},
   "source": [
    "5. Arrive the JupyterLab interface and open a new terminal. From the few commands executed in the terminal, you can see that the home directory is `/home/idies/` and the file browser on the left is mounted to `/home/idies/workspace/` (shown in the second screenshot below)\n",
    "\n",
    "<img src='figs/jupyterlab.jpg' style='width:800px' img>\n",
    "\n",
    "<img src='figs/navigate_lab.jpg' style='width:800px' img>"
   ]
  },
  {
   "cell_type": "markdown",
   "metadata": {},
   "source": [
    "6. If you have completed all the steps above, you are now connected to a large cluster with 100GB shared memory and at least 16 CPU cores. Next we will go through how to install necessary packages for accessing and exploring the training data in [Setup.ipynb](Setup.ipynb)"
   ]
  },
  {
   "cell_type": "code",
   "execution_count": null,
   "metadata": {},
   "outputs": [],
   "source": []
  }
 ],
 "metadata": {
  "kernelspec": {
   "display_name": "LSST_Train",
   "language": "python",
   "name": "lsst_train"
  },
  "language_info": {
   "codemirror_mode": {
    "name": "ipython",
    "version": 3
   },
   "file_extension": ".py",
   "mimetype": "text/x-python",
   "name": "python",
   "nbconvert_exporter": "python",
   "pygments_lexer": "ipython3",
   "version": "3.7.6"
  }
 },
 "nbformat": 4,
 "nbformat_minor": 4
}

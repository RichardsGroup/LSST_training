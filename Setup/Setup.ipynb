{
 "cells": [
  {
   "cell_type": "markdown",
   "metadata": {},
   "source": [
    "## Install & Setup\n",
    "### 1. Clone this repo:\n",
    "Whether you are working on SciServer or offline, please always start with cloning this repository:\n",
    "\n",
    "    $ git clone https://github.com/RichardsGroup/LSST_training.git"
   ]
  },
  {
   "cell_type": "markdown",
   "metadata": {},
   "source": [
    "### 2.Installing necessary packages:\n",
    "#### 2.1 On SciServer\n",
    "If you are working on SciServer, the easiest way is to install the `zarr` package to the default conda path. Open a termial and type in the following:\n",
    "\n",
    "    $ conda install -c conda-forge zarr\n",
    "\n",
    "A more sophisticated way is to create a separate environment in addition to the default conda distribution. To do that, you would need to first configure the bash shell for conda, open a new terminal:\n",
    "\n",
    "    $ echo \". /home/idies/miniconda3/etc/profile.d/conda.sh\" >> ~/.bashrc\n",
    "    \n",
    "Next, navigate to this folder within your sciserver container to create a new environment:\n",
    "\n",
    "    $ conda env create --file env_sciserver.yml\n",
    "\n",
    "Activate the new environment and install the ipython kernel:\n",
    "\n",
    "    $ conda activate lsst_train\n",
    "$ python -m ipykernel install --user --name lsst_train --display-name \"LSST_Train\"\n",
    "    \n",
    "Finally, refresh the tap and a new ipython kernel should appear in the jupyter launcher. "
   ]
  },
  {
   "cell_type": "markdown",
   "metadata": {},
   "source": [
    "#### 2.2 Offline\n",
    "If you are working offline and don't want to mess up your existing conda environments, you create a new environment using the provided yml file:\n",
    "```\n",
    "$ conda env create --file environment.yml\n",
    "```\n",
    "\n",
    "Once you are done with creating the new environment, you can activate the new environment by:\n",
    "```\n",
    "$ conda activate lsst_train\n",
    "```\n",
    "\n",
    "To start a jupyter notebook or jupyter lab:\n",
    "```\n",
    "$ jupyter notebook\n",
    "```\n",
    "\n",
    "or\n",
    "\n",
    "```\n",
    "$ jupyter lab\n",
    "```"
   ]
  },
  {
   "cell_type": "markdown",
   "metadata": {},
   "source": [
    "### 3. Get the Data:\n",
    "The training data is hosted on SciServer, so you do need an account to get them. Howerver, you don't have to work with data on SciServer. You can download the data to you local machine and work with it offline. The only difference is that you need to provide the path to the data in the [Get_started.ipynb](../Script_NBs/Get_started.ipynb) notebook."
   ]
  },
  {
   "cell_type": "markdown",
   "metadata": {},
   "source": [
    "### 4. Notebooks & Scripts\n",
    "- `utils.py`: A python module containing convenience functions to interact with the training data. \n",
    "  **This script has to be kept in the same folder as the following two notebooks.**\n",
    "- [Get_started.ipynb](../Script_NBs/Get_started.ipynb): A notebook showing how to retrieve training data.\n",
    "- [Zarr.ipynb](../Script_NBs/Zarr.ipynb): A notebook providing a more in-depth introduction to Zarr."
   ]
  },
  {
   "cell_type": "code",
   "execution_count": null,
   "metadata": {},
   "outputs": [],
   "source": []
  }
 ],
 "metadata": {
  "kernelspec": {
   "display_name": "Python 3",
   "language": "python",
   "name": "python3"
  },
  "language_info": {
   "codemirror_mode": {
    "name": "ipython",
    "version": 3
   },
   "file_extension": ".py",
   "mimetype": "text/x-python",
   "name": "python",
   "nbconvert_exporter": "python",
   "pygments_lexer": "ipython3",
   "version": "3.7.3"
  }
 },
 "nbformat": 4,
 "nbformat_minor": 4
}

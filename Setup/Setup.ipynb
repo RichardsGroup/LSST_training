{
 "cells": [
  {
   "cell_type": "markdown",
   "metadata": {},
   "source": [
    "## Install & Setup\n",
    "### 1. Clone this repo:\n",
    "Whether you are working on SciServer or offline, please always start with cloning this repository:\n",
    "```\n",
    "$ git clone https://github.com/RichardsGroup/LSST_training.git\n",
    "```"
   ]
  },
  {
   "cell_type": "markdown",
   "metadata": {},
   "source": [
    "### 2.Installing necessary packages:\n",
    "#### 2.1 On SciServer\n",
    "If you are working on SciServer, the easiest way is to install the `zarr` package to the default conda path. Open a termial and type in the following:\n",
    "```\n",
    "$ conda install -c conda-forge zarr\n",
    "```\n",
    "\n",
    "A more sophisticated way is to create a separate environment in addition to the default conda distribution. \n",
    "For you convenience, we have wrote a setup script to complete the setup.\n",
    "First, you would need to navigate to this setup folder (/home/idies/workspace/Storage/`<username>`/persistent/LSST_training/Setup/), then execute the following commands (can take up to 10 mins):\n",
    "```\n",
    "$ chmod +x setup.sh\n",
    "$ source setup.sh\n",
    "```\n",
    "\n",
    "You can also do it manually following the steps listed below:\n",
    "\n",
    "1. Configure the bash shell for conda, open a new terminal and execute:\n",
    "\n",
    "```\n",
    "$ echo \". /home/idies/miniconda3/etc/profile.d/conda.sh\" >> ~/.bashrc\n",
    "$ source ~/.bashrc\n",
    "```   \n",
    "\n",
    "2. Navigate to this folder (/home/idies/workspace/Storage/`<username>`/persistent/LSST_training/Setup/) within your sciserver container to create a new environment (Note that this process can take a while):\n",
    "\n",
    "```\n",
    "$ conda env create --file env_sciserver.yml\n",
    "```\n",
    "\n",
    "3. Activate the new environment and install the ipython kernel:\n",
    "\n",
    "```\n",
    "$ conda activate lsst_train\n",
    "$ python -m ipykernel install --user --name lsst_train --display-name \"LSST_Train\"\n",
    "```\n",
    "\n",
    "Lastly, refresh the browser tab and a new ipython kernel should appear in the jupyter launcher, if jupyter launcher is not currently open, click the '+' sign above the left sidebar to open it. (See this [screenshot](./figs/launcher.jpg) for an example). "
   ]
  },
  {
   "cell_type": "markdown",
   "metadata": {},
   "source": [
    "**To run provided notebooks (Get_started.ipynb and Zarr.ipynb), one needs to make sure the new 'LSST_Train' kernel is used. One should be able change the kernel by clicking the kernel name at the top right corner (if you are in the jupyter lab interface). The screenshots included in the steps below may better explain this process.** \n",
    "- Click the kernel name (e.g., \"Python 3\" at the top right corner.) to open up the \"Select Kernel\" window. [screenshot](./figs/kernel.jpg)\n",
    "- Use the dropdown menu to see all available kernels. [screenshot](./figs/kernel_window.jpg)\n",
    "- Choose the desired kernel. [screenshot](./figs/select_kernel.jpg)\n",
    "\n",
    "#### P.S.\n",
    "1. If you are opening up the existing notebooks for the first time, you could be asked to select a kernel. That is, you will be directed [here](./figs/kernel_window.jpg), then just make sure that the \"LSST_train\" kernel is selected.\n",
    "2. If new softwares need to be installed to this new environment, one needs to make sure this new environment is activated in the current shell (terminal). If the environment is not activated, you can activate it by running `conda activate lsst_train`. \n",
    "3. **\"LSST_train\" environment is NOT automatically activated when you open a new terminal.** Thus, to install new softwares in a new terminal, you should start with `conda activate lsst_train`."
   ]
  },
  {
   "cell_type": "markdown",
   "metadata": {},
   "source": [
    "#### 2.2 Offline\n",
    "If you are working offline and don't want to mess up your existing conda environments, you create a new environment using the provided yml file:\n",
    "```\n",
    "$ conda env create --file environment.yml\n",
    "```\n",
    "\n",
    "Once you are done with creating the new environment, you can activate the new environment by:\n",
    "```\n",
    "$ conda activate lsst_train\n",
    "```\n",
    "\n",
    "To start a jupyter notebook or jupyter lab:\n",
    "```\n",
    "$ jupyter notebook\n",
    "```\n",
    "\n",
    "or\n",
    "\n",
    "```\n",
    "$ jupyter lab\n",
    "```"
   ]
  },
  {
   "cell_type": "markdown",
   "metadata": {},
   "source": [
    "### 3. Get the Data:\n",
    "The training data is hosted on SciServer, so you do need an account to get them. Howerver, you don't have to work with data on SciServer. You can download the data to you local machine and work with it offline. The only difference is that you need to provide the path to the data in the [Get_started.ipynb](../Script_NBs/Get_started.ipynb) notebook."
   ]
  },
  {
   "cell_type": "markdown",
   "metadata": {},
   "source": [
    "### 4. Notebooks & Scripts\n",
    "- `utils.py`: A python module containing convenience functions to interact with the training data. \n",
    "  **This script has to be kept in the same folder as the following two notebooks.**\n",
    "- [Get_started.ipynb](../Script_NBs/Get_started.ipynb): A notebook showing how to retrieve training data.\n",
    "- [Zarr.ipynb](../Script_NBs/Zarr.ipynb): A notebook providing a more in-depth introduction to Zarr.\n",
    "- [AGN_classification_example.ipynb](../Script_NBs/AGN_classification_example.ipynb): A notebook showing how to perform simple QSO classification tasks using the training set.\n",
    "- [AGN_regression_example.ipynb](../Script_NBs/AGN_regression_example.ipynb): A notebook showing how to perform simple regression tasks (photo-z) using the training set."
   ]
  },
  {
   "cell_type": "code",
   "execution_count": null,
   "metadata": {},
   "outputs": [],
   "source": []
  }
 ],
 "metadata": {
  "anaconda-cloud": {},
  "kernelspec": {
   "display_name": "Python 3",
   "language": "python",
   "name": "python3"
  },
  "language_info": {
   "codemirror_mode": {
    "name": "ipython",
    "version": 3
   },
   "file_extension": ".py",
   "mimetype": "text/x-python",
   "name": "python",
   "nbconvert_exporter": "python",
   "pygments_lexer": "ipython3",
   "version": "3.7.3"
  }
 },
 "nbformat": 4,
 "nbformat_minor": 4
}

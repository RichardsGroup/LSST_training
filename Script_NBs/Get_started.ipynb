{
 "cells": [
  {
   "cell_type": "markdown",
   "metadata": {},
   "source": [
    "## Get Started!\n",
    "### 1. Clone this repo:\n",
    "Whether you are working on SciServer or offline, please always start with cloning this repository:\n",
    "\n",
    "    $ git clone https://github.com/RichardsGroup/LSST_training.git"
   ]
  },
  {
   "cell_type": "markdown",
   "metadata": {},
   "source": [
    "### 2.Installing necessary packages\n",
    "#### 2.1 On SciServer\n",
    "If you are working on SciServer, you probably only need to install the `zarr` package. Open a termial and type in the following:\n",
    "\n",
    "    $ conda install -c conda-forge zarr\n",
    "\n",
    "\n",
    "Then you can procced with the notebooks in this repository\n",
    "#### 2.2 Offline\n",
    "If you are working offline and don't want to mess up your existing conda environments, you create a new environment using the provided yml file:\n",
    "```\n",
    "$ conda env create --file environment.yml\n",
    "```\n",
    "\n",
    "Once you are done with creating the new environment, you can activate the new environment by:\n",
    "```\n",
    "$ conda activate lsst_train\n",
    "```\n",
    "\n",
    "To start a jupyter notebook or jupyter lab:\n",
    "```\n",
    "$ jupyter notebook\n",
    "```\n",
    "\n",
    "or\n",
    "\n",
    "```\n",
    "$ jupyter lab\n",
    "```"
   ]
  },
  {
   "cell_type": "markdown",
   "metadata": {},
   "source": [
    "### Notebooks & Scripts\n",
    "- utils.py: A python module containing convenience functions to interact with the training data.\n",
    "- [Data_EDA.ipynb](Data_EDA.ipynb): A notebook showing how to retrieve training data.\n",
    "- [Zarr.ipynb](Zarr.ipynb): A notebook providing a more in-depth introduction to Zarr."
   ]
  }
 ],
 "metadata": {
  "kernelspec": {
   "display_name": "Python 3",
   "language": "python",
   "name": "python3"
  },
  "language_info": {
   "codemirror_mode": {
    "name": "ipython",
    "version": 3
   },
   "file_extension": ".py",
   "mimetype": "text/x-python",
   "name": "python",
   "nbconvert_exporter": "python",
   "pygments_lexer": "ipython3",
   "version": "3.7.3"
  }
 },
 "nbformat": 4,
 "nbformat_minor": 4
}
